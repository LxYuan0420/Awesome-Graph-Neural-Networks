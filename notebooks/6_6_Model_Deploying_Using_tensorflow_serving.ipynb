{
  "nbformat": 4,
  "nbformat_minor": 0,
  "metadata": {
    "colab": {
      "name": "6-6 Model Deploying Using tensorflow-serving.ipynb",
      "provenance": [],
      "collapsed_sections": [],
      "authorship_tag": "ABX9TyNL7cMHwIHN9UR83K6lsNki",
      "include_colab_link": true
    },
    "kernelspec": {
      "name": "python3",
      "display_name": "Python 3"
    }
  },
  "cells": [
    {
      "cell_type": "markdown",
      "metadata": {
        "id": "view-in-github",
        "colab_type": "text"
      },
      "source": [
        "<a href=\"https://colab.research.google.com/github/LxYuan0420/Awesome-Graph-Neural-Networks/blob/master/notebooks/6_6_Model_Deploying_Using_tensorflow_serving.ipynb\" target=\"_parent\"><img src=\"https://colab.research.google.com/assets/colab-badge.svg\" alt=\"Open In Colab\"/></a>"
      ]
    },
    {
      "cell_type": "markdown",
      "metadata": {
        "id": "RVec67dOLkPC"
      },
      "source": [
        "**6-6 Model Deploying Using tensorflow-serving**\r\n",
        "\r\n",
        "There are multiple ways to deploy and run the trained models which saved with the original tensorflow format.\r\n",
        "\r\n",
        "For example:\r\n",
        "\r\n",
        "We can load and run the model in the web browser using javascript through tensorflow-js.\r\n",
        "\r\n",
        "We can load and run the TensorFlow model on mobile and embeded devices through tensorflow-lite.\r\n",
        "\r\n",
        "We can use tensorflow-serving to load the model that providing network interface API service and to acquire the prediction results from the model through sending network requests in arbitrary programming languages.\r\n",
        "\r\n",
        "We can predict using the TensorFlow model in Java or spark (scala) through the TensorFlow for Java port.\r\n",
        "\r\n",
        "This section introduces model deploying by tensorflow serving and using spark (scala) to implement the TensorFlow models.\r\n",
        "\r\n",
        "**0. Introduction to model deploying by tensorflow serving**\r\n",
        "\r\n",
        "The necessary steps of model deploying using tensorflow serving are:\r\n",
        "\r\n",
        "(1) Prepare the protobuf model file.\r\n",
        "\r\n",
        "(2) Install the tensorflow serving.\r\n",
        "\r\n",
        "(3) Start the tensorflow serving service.\r\n",
        "\r\n",
        "(4) Send the request to the API service to obtain the prediction.\r\n",
        "\r\n",
        "You may use the following link for testing (tf_serving, in Chinese) https://colab.research.google.com/drive/1vS5LAYJTEn-H0GDb1irzIuyRB8E3eWc8"
      ]
    },
    {
      "cell_type": "code",
      "metadata": {
        "id": "8Vo9KB_MLsqZ"
      },
      "source": [
        "import tensorflow as tf\r\n",
        "from tensorflow.keras import *"
      ],
      "execution_count": 1,
      "outputs": []
    },
    {
      "cell_type": "markdown",
      "metadata": {
        "id": "8WTjSuz5L1aq"
      },
      "source": [
        "**1. Prepare the protobuf Model File**\r\n",
        "\r\n",
        "Here we train a simple linear regression model with `tf.keras` and save it as protobuf file."
      ]
    },
    {
      "cell_type": "code",
      "metadata": {
        "id": "3sqHuKwJL8jA"
      },
      "source": [
        "n = 800\r\n",
        "\r\n",
        "X = tf.random.uniform([n,2], minval=-10, maxval=10)\r\n",
        "w0 = tf.constant([[2.0], [1.0]])\r\n",
        "b0 = tf.constant(3.0)\r\n",
        "\r\n",
        "Y = X@w0 + b0 + tf.random.normal([n,1], mean=0.0, stddev=2.0)"
      ],
      "execution_count": 2,
      "outputs": []
    },
    {
      "cell_type": "code",
      "metadata": {
        "colab": {
          "base_uri": "https://localhost:8080/"
        },
        "id": "9c1cfy4kMdMB",
        "outputId": "9631e56e-72d2-41a6-f11b-5c2b692e8f5a"
      },
      "source": [
        "inputs = tf.keras.Input(shape=(2,), name='input')\r\n",
        "outputs = tf.keras.layers.Dense(1, name=\"outputs\")(inputs)\r\n",
        "my_model = models.Model(inputs=inputs, outputs=outputs)\r\n",
        "\r\n",
        "my_model.summary()"
      ],
      "execution_count": 4,
      "outputs": [
        {
          "output_type": "stream",
          "text": [
            "Model: \"model\"\n",
            "_________________________________________________________________\n",
            "Layer (type)                 Output Shape              Param #   \n",
            "=================================================================\n",
            "input (InputLayer)           [(None, 2)]               0         \n",
            "_________________________________________________________________\n",
            "outputs (Dense)              (None, 1)                 3         \n",
            "=================================================================\n",
            "Total params: 3\n",
            "Trainable params: 3\n",
            "Non-trainable params: 0\n",
            "_________________________________________________________________\n"
          ],
          "name": "stdout"
        }
      ]
    },
    {
      "cell_type": "code",
      "metadata": {
        "colab": {
          "base_uri": "https://localhost:8080/"
        },
        "id": "XBODgSiqMslP",
        "outputId": "1a53a78c-25f8-45fc-dc0f-b4afe13656cb"
      },
      "source": [
        "my_model.compile(loss=\"mse\", optimizer=\"rmsprop\", metrics=[\"mae\"])\r\n",
        "my_model.fit(X, Y, batch_size=8, epochs=100)\r\n",
        "\r\n",
        "tf.print(\"w = \", my_model.layers[1].kernel)\r\n",
        "tf.print(\"b = \", my_model.layers[1].bias)"
      ],
      "execution_count": 5,
      "outputs": [
        {
          "output_type": "stream",
          "text": [
            "Epoch 1/100\n",
            "100/100 [==============================] - 1s 767us/step - loss: 94.9646 - mae: 8.1999\n",
            "Epoch 2/100\n",
            "100/100 [==============================] - 0s 788us/step - loss: 83.3656 - mae: 7.7170\n",
            "Epoch 3/100\n",
            "100/100 [==============================] - 0s 837us/step - loss: 69.9246 - mae: 6.9407\n",
            "Epoch 4/100\n",
            "100/100 [==============================] - 0s 809us/step - loss: 65.4109 - mae: 6.7484\n",
            "Epoch 5/100\n",
            "100/100 [==============================] - 0s 846us/step - loss: 51.4103 - mae: 5.8987\n",
            "Epoch 6/100\n",
            "100/100 [==============================] - 0s 888us/step - loss: 46.3068 - mae: 5.6613\n",
            "Epoch 7/100\n",
            "100/100 [==============================] - 0s 782us/step - loss: 42.0840 - mae: 5.3035\n",
            "Epoch 8/100\n",
            "100/100 [==============================] - 0s 810us/step - loss: 32.7169 - mae: 4.6556\n",
            "Epoch 9/100\n",
            "100/100 [==============================] - 0s 895us/step - loss: 30.3540 - mae: 4.4912\n",
            "Epoch 10/100\n",
            "100/100 [==============================] - 0s 972us/step - loss: 25.2392 - mae: 4.0791\n",
            "Epoch 11/100\n",
            "100/100 [==============================] - 0s 828us/step - loss: 22.6340 - mae: 3.8500\n",
            "Epoch 12/100\n",
            "100/100 [==============================] - 0s 874us/step - loss: 17.3958 - mae: 3.3799\n",
            "Epoch 13/100\n",
            "100/100 [==============================] - 0s 783us/step - loss: 14.2764 - mae: 3.0154\n",
            "Epoch 14/100\n",
            "100/100 [==============================] - 0s 797us/step - loss: 12.6598 - mae: 2.8298\n",
            "Epoch 15/100\n",
            "100/100 [==============================] - 0s 822us/step - loss: 11.0541 - mae: 2.6920\n",
            "Epoch 16/100\n",
            "100/100 [==============================] - 0s 814us/step - loss: 8.5926 - mae: 2.3940\n",
            "Epoch 17/100\n",
            "100/100 [==============================] - 0s 807us/step - loss: 8.0727 - mae: 2.3120\n",
            "Epoch 18/100\n",
            "100/100 [==============================] - 0s 813us/step - loss: 7.1600 - mae: 2.1742\n",
            "Epoch 19/100\n",
            "100/100 [==============================] - 0s 859us/step - loss: 6.5334 - mae: 2.0959\n",
            "Epoch 20/100\n",
            "100/100 [==============================] - 0s 827us/step - loss: 6.7428 - mae: 2.1165\n",
            "Epoch 21/100\n",
            "100/100 [==============================] - 0s 860us/step - loss: 6.4879 - mae: 2.0872\n",
            "Epoch 22/100\n",
            "100/100 [==============================] - 0s 837us/step - loss: 5.2895 - mae: 1.8633\n",
            "Epoch 23/100\n",
            "100/100 [==============================] - 0s 804us/step - loss: 5.5693 - mae: 1.9171\n",
            "Epoch 24/100\n",
            "100/100 [==============================] - 0s 905us/step - loss: 5.5933 - mae: 1.8859\n",
            "Epoch 25/100\n",
            "100/100 [==============================] - 0s 791us/step - loss: 5.6377 - mae: 1.8919\n",
            "Epoch 26/100\n",
            "100/100 [==============================] - 0s 771us/step - loss: 4.7952 - mae: 1.7405\n",
            "Epoch 27/100\n",
            "100/100 [==============================] - 0s 800us/step - loss: 5.1234 - mae: 1.7984\n",
            "Epoch 28/100\n",
            "100/100 [==============================] - 0s 883us/step - loss: 4.7646 - mae: 1.7950\n",
            "Epoch 29/100\n",
            "100/100 [==============================] - 0s 813us/step - loss: 4.4409 - mae: 1.6813\n",
            "Epoch 30/100\n",
            "100/100 [==============================] - 0s 831us/step - loss: 4.8754 - mae: 1.7331\n",
            "Epoch 31/100\n",
            "100/100 [==============================] - 0s 835us/step - loss: 4.5359 - mae: 1.6846\n",
            "Epoch 32/100\n",
            "100/100 [==============================] - 0s 793us/step - loss: 4.3041 - mae: 1.6604\n",
            "Epoch 33/100\n",
            "100/100 [==============================] - 0s 902us/step - loss: 4.1939 - mae: 1.6385\n",
            "Epoch 34/100\n",
            "100/100 [==============================] - 0s 847us/step - loss: 4.5030 - mae: 1.6509\n",
            "Epoch 35/100\n",
            "100/100 [==============================] - 0s 852us/step - loss: 4.1523 - mae: 1.6224\n",
            "Epoch 36/100\n",
            "100/100 [==============================] - 0s 831us/step - loss: 3.6856 - mae: 1.5213\n",
            "Epoch 37/100\n",
            "100/100 [==============================] - 0s 836us/step - loss: 4.0539 - mae: 1.5788\n",
            "Epoch 38/100\n",
            "100/100 [==============================] - 0s 826us/step - loss: 3.9893 - mae: 1.5631\n",
            "Epoch 39/100\n",
            "100/100 [==============================] - 0s 869us/step - loss: 3.8230 - mae: 1.5414\n",
            "Epoch 40/100\n",
            "100/100 [==============================] - 0s 809us/step - loss: 4.0271 - mae: 1.6009\n",
            "Epoch 41/100\n",
            "100/100 [==============================] - 0s 811us/step - loss: 4.6014 - mae: 1.7104\n",
            "Epoch 42/100\n",
            "100/100 [==============================] - 0s 866us/step - loss: 3.7872 - mae: 1.5555\n",
            "Epoch 43/100\n",
            "100/100 [==============================] - 0s 854us/step - loss: 4.3952 - mae: 1.6467\n",
            "Epoch 44/100\n",
            "100/100 [==============================] - 0s 957us/step - loss: 3.7530 - mae: 1.5524\n",
            "Epoch 45/100\n",
            "100/100 [==============================] - 0s 810us/step - loss: 3.9947 - mae: 1.6064\n",
            "Epoch 46/100\n",
            "100/100 [==============================] - 0s 916us/step - loss: 4.0930 - mae: 1.5933\n",
            "Epoch 47/100\n",
            "100/100 [==============================] - 0s 888us/step - loss: 3.6894 - mae: 1.5033\n",
            "Epoch 48/100\n",
            "100/100 [==============================] - 0s 865us/step - loss: 3.7903 - mae: 1.5513\n",
            "Epoch 49/100\n",
            "100/100 [==============================] - 0s 872us/step - loss: 4.0178 - mae: 1.5727\n",
            "Epoch 50/100\n",
            "100/100 [==============================] - 0s 919us/step - loss: 4.4224 - mae: 1.6085\n",
            "Epoch 51/100\n",
            "100/100 [==============================] - 0s 845us/step - loss: 4.1870 - mae: 1.5958\n",
            "Epoch 52/100\n",
            "100/100 [==============================] - 0s 795us/step - loss: 4.6233 - mae: 1.6529\n",
            "Epoch 53/100\n",
            "100/100 [==============================] - 0s 820us/step - loss: 4.5861 - mae: 1.6878\n",
            "Epoch 54/100\n",
            "100/100 [==============================] - 0s 830us/step - loss: 3.8870 - mae: 1.5891\n",
            "Epoch 55/100\n",
            "100/100 [==============================] - 0s 904us/step - loss: 4.0806 - mae: 1.6190\n",
            "Epoch 56/100\n",
            "100/100 [==============================] - 0s 843us/step - loss: 4.2346 - mae: 1.6174\n",
            "Epoch 57/100\n",
            "100/100 [==============================] - 0s 846us/step - loss: 4.0169 - mae: 1.5987\n",
            "Epoch 58/100\n",
            "100/100 [==============================] - 0s 803us/step - loss: 3.7604 - mae: 1.5393\n",
            "Epoch 59/100\n",
            "100/100 [==============================] - 0s 963us/step - loss: 3.9757 - mae: 1.5889\n",
            "Epoch 60/100\n",
            "100/100 [==============================] - 0s 877us/step - loss: 4.2746 - mae: 1.5963\n",
            "Epoch 61/100\n",
            "100/100 [==============================] - 0s 965us/step - loss: 3.8705 - mae: 1.5623\n",
            "Epoch 62/100\n",
            "100/100 [==============================] - 0s 811us/step - loss: 3.8481 - mae: 1.5638\n",
            "Epoch 63/100\n",
            "100/100 [==============================] - 0s 877us/step - loss: 3.7359 - mae: 1.5392\n",
            "Epoch 64/100\n",
            "100/100 [==============================] - 0s 836us/step - loss: 4.1132 - mae: 1.5809\n",
            "Epoch 65/100\n",
            "100/100 [==============================] - 0s 791us/step - loss: 3.9727 - mae: 1.5909\n",
            "Epoch 66/100\n",
            "100/100 [==============================] - 0s 928us/step - loss: 3.8084 - mae: 1.5175\n",
            "Epoch 67/100\n",
            "100/100 [==============================] - 0s 837us/step - loss: 3.8131 - mae: 1.5406\n",
            "Epoch 68/100\n",
            "100/100 [==============================] - 0s 820us/step - loss: 3.8805 - mae: 1.5316\n",
            "Epoch 69/100\n",
            "100/100 [==============================] - 0s 823us/step - loss: 3.8090 - mae: 1.5730\n",
            "Epoch 70/100\n",
            "100/100 [==============================] - 0s 828us/step - loss: 3.8617 - mae: 1.5454\n",
            "Epoch 71/100\n",
            "100/100 [==============================] - 0s 915us/step - loss: 3.8541 - mae: 1.5387\n",
            "Epoch 72/100\n",
            "100/100 [==============================] - 0s 896us/step - loss: 4.2518 - mae: 1.6117\n",
            "Epoch 73/100\n",
            "100/100 [==============================] - 0s 819us/step - loss: 4.0621 - mae: 1.5897\n",
            "Epoch 74/100\n",
            "100/100 [==============================] - 0s 933us/step - loss: 4.1121 - mae: 1.5852\n",
            "Epoch 75/100\n",
            "100/100 [==============================] - 0s 964us/step - loss: 3.9144 - mae: 1.5547\n",
            "Epoch 76/100\n",
            "100/100 [==============================] - 0s 861us/step - loss: 3.8563 - mae: 1.5356\n",
            "Epoch 77/100\n",
            "100/100 [==============================] - 0s 932us/step - loss: 3.6537 - mae: 1.5173\n",
            "Epoch 78/100\n",
            "100/100 [==============================] - 0s 847us/step - loss: 3.8799 - mae: 1.5739\n",
            "Epoch 79/100\n",
            "100/100 [==============================] - 0s 883us/step - loss: 4.2598 - mae: 1.6220\n",
            "Epoch 80/100\n",
            "100/100 [==============================] - 0s 842us/step - loss: 3.9321 - mae: 1.5888\n",
            "Epoch 81/100\n",
            "100/100 [==============================] - 0s 821us/step - loss: 4.2195 - mae: 1.6280\n",
            "Epoch 82/100\n",
            "100/100 [==============================] - 0s 804us/step - loss: 4.1559 - mae: 1.6151\n",
            "Epoch 83/100\n",
            "100/100 [==============================] - 0s 869us/step - loss: 3.8502 - mae: 1.5648\n",
            "Epoch 84/100\n",
            "100/100 [==============================] - 0s 813us/step - loss: 4.0092 - mae: 1.6001\n",
            "Epoch 85/100\n",
            "100/100 [==============================] - 0s 906us/step - loss: 4.0487 - mae: 1.6060\n",
            "Epoch 86/100\n",
            "100/100 [==============================] - 0s 836us/step - loss: 4.4169 - mae: 1.6400\n",
            "Epoch 87/100\n",
            "100/100 [==============================] - 0s 808us/step - loss: 4.2255 - mae: 1.6172\n",
            "Epoch 88/100\n",
            "100/100 [==============================] - 0s 917us/step - loss: 4.1440 - mae: 1.5771\n",
            "Epoch 89/100\n",
            "100/100 [==============================] - 0s 849us/step - loss: 3.5609 - mae: 1.5290\n",
            "Epoch 90/100\n",
            "100/100 [==============================] - 0s 848us/step - loss: 3.9166 - mae: 1.5597\n",
            "Epoch 91/100\n",
            "100/100 [==============================] - 0s 808us/step - loss: 3.7434 - mae: 1.5214\n",
            "Epoch 92/100\n",
            "100/100 [==============================] - 0s 818us/step - loss: 3.9172 - mae: 1.5490\n",
            "Epoch 93/100\n",
            "100/100 [==============================] - 0s 824us/step - loss: 4.0845 - mae: 1.5835\n",
            "Epoch 94/100\n",
            "100/100 [==============================] - 0s 814us/step - loss: 4.1925 - mae: 1.6201\n",
            "Epoch 95/100\n",
            "100/100 [==============================] - 0s 805us/step - loss: 4.1448 - mae: 1.5948\n",
            "Epoch 96/100\n",
            "100/100 [==============================] - 0s 809us/step - loss: 3.8821 - mae: 1.5453\n",
            "Epoch 97/100\n",
            "100/100 [==============================] - 0s 911us/step - loss: 3.9311 - mae: 1.5903\n",
            "Epoch 98/100\n",
            "100/100 [==============================] - 0s 851us/step - loss: 3.5199 - mae: 1.4661\n",
            "Epoch 99/100\n",
            "100/100 [==============================] - 0s 1ms/step - loss: 3.8630 - mae: 1.5542\n",
            "Epoch 100/100\n",
            "100/100 [==============================] - 0s 889us/step - loss: 3.7650 - mae: 1.5424\n",
            "w =  [[2.00837421]\n",
            " [1.00668442]]\n",
            "b =  [3.0972743]\n"
          ],
          "name": "stdout"
        }
      ]
    },
    {
      "cell_type": "code",
      "metadata": {
        "colab": {
          "base_uri": "https://localhost:8080/"
        },
        "id": "dO-2qcMjNBjn",
        "outputId": "c9524108-bd07-4f9b-e216-171dd0a066ed"
      },
      "source": [
        "# save the model as pb format\r\n",
        "export_path = \"../my_model/\"\r\n",
        "version = \"1\"\r\n",
        "my_model.save(export_path+version, save_format='tf')"
      ],
      "execution_count": 6,
      "outputs": [
        {
          "output_type": "stream",
          "text": [
            "INFO:tensorflow:Assets written to: ../my_model/1/assets\n"
          ],
          "name": "stdout"
        }
      ]
    },
    {
      "cell_type": "code",
      "metadata": {
        "colab": {
          "base_uri": "https://localhost:8080/"
        },
        "id": "evlOfA7dNS_v",
        "outputId": "06fbcf66-5273-44a5-bc30-09d20f44e7e7"
      },
      "source": [
        "# check the saved model file\r\n",
        "!ls {export_path+version}"
      ],
      "execution_count": 7,
      "outputs": [
        {
          "output_type": "stream",
          "text": [
            "assets\tsaved_model.pb\tvariables\n"
          ],
          "name": "stdout"
        }
      ]
    },
    {
      "cell_type": "code",
      "metadata": {
        "colab": {
          "base_uri": "https://localhost:8080/"
        },
        "id": "Ncrp8K4pNgC_",
        "outputId": "fedbe49a-2e03-4b67-cfb5-40ea9832aecd"
      },
      "source": [
        "# Check the info of the model file\r\n",
        "!saved_model_cli show --dir {export_path+str(version)} --all"
      ],
      "execution_count": 8,
      "outputs": [
        {
          "output_type": "stream",
          "text": [
            "\n",
            "MetaGraphDef with tag-set: 'serve' contains the following SignatureDefs:\n",
            "\n",
            "signature_def['__saved_model_init_op']:\n",
            "  The given SavedModel SignatureDef contains the following input(s):\n",
            "  The given SavedModel SignatureDef contains the following output(s):\n",
            "    outputs['__saved_model_init_op'] tensor_info:\n",
            "        dtype: DT_INVALID\n",
            "        shape: unknown_rank\n",
            "        name: NoOp\n",
            "  Method name is: \n",
            "\n",
            "signature_def['serving_default']:\n",
            "  The given SavedModel SignatureDef contains the following input(s):\n",
            "    inputs['input'] tensor_info:\n",
            "        dtype: DT_FLOAT\n",
            "        shape: (-1, 2)\n",
            "        name: serving_default_input:0\n",
            "  The given SavedModel SignatureDef contains the following output(s):\n",
            "    outputs['outputs'] tensor_info:\n",
            "        dtype: DT_FLOAT\n",
            "        shape: (-1, 1)\n",
            "        name: StatefulPartitionedCall:0\n",
            "  Method name is: tensorflow/serving/predict\n",
            "WARNING: Logging before flag parsing goes to stderr.\n",
            "W0212 17:07:55.066845 139931175499648 deprecation.py:506] From /usr/local/lib/python2.7/dist-packages/tensorflow_core/python/ops/resource_variable_ops.py:1786: calling __init__ (from tensorflow.python.ops.resource_variable_ops) with constraint is deprecated and will be removed in a future version.\n",
            "Instructions for updating:\n",
            "If using Keras pass *_constraint arguments to layers.\n",
            "\n",
            "Defined Functions:\n",
            "  Function Name: '__call__'\n",
            "    Option #1\n",
            "      Callable with:\n",
            "        Argument #1\n",
            "          inputs: TensorSpec(shape=(None, 2), dtype=tf.float32, name=u'inputs')\n",
            "        Argument #2\n",
            "          DType: bool\n",
            "          Value: False\n",
            "        Argument #3\n",
            "          DType: NoneType\n",
            "          Value: None\n",
            "    Option #2\n",
            "      Callable with:\n",
            "        Argument #1\n",
            "          input: TensorSpec(shape=(None, 2), dtype=tf.float32, name=u'input')\n",
            "        Argument #2\n",
            "          DType: bool\n",
            "          Value: False\n",
            "        Argument #3\n",
            "          DType: NoneType\n",
            "          Value: None\n",
            "    Option #3\n",
            "      Callable with:\n",
            "        Argument #1\n",
            "          inputs: TensorSpec(shape=(None, 2), dtype=tf.float32, name=u'inputs')\n",
            "        Argument #2\n",
            "          DType: bool\n",
            "          Value: True\n",
            "        Argument #3\n",
            "          DType: NoneType\n",
            "          Value: None\n",
            "    Option #4\n",
            "      Callable with:\n",
            "        Argument #1\n",
            "          input: TensorSpec(shape=(None, 2), dtype=tf.float32, name=u'input')\n",
            "        Argument #2\n",
            "          DType: bool\n",
            "          Value: True\n",
            "        Argument #3\n",
            "          DType: NoneType\n",
            "          Value: None\n",
            "\n",
            "  Function Name: '_default_save_signature'\n",
            "    Option #1\n",
            "      Callable with:\n",
            "        Argument #1\n",
            "          input: TensorSpec(shape=(None, 2), dtype=tf.float32, name=u'input')\n",
            "\n",
            "  Function Name: 'call_and_return_all_conditional_losses'\n",
            "    Option #1\n",
            "      Callable with:\n",
            "        Argument #1\n",
            "          input: TensorSpec(shape=(None, 2), dtype=tf.float32, name=u'input')\n",
            "        Argument #2\n",
            "          DType: bool\n",
            "          Value: False\n",
            "        Argument #3\n",
            "          DType: NoneType\n",
            "          Value: None\n",
            "    Option #2\n",
            "      Callable with:\n",
            "        Argument #1\n",
            "          input: TensorSpec(shape=(None, 2), dtype=tf.float32, name=u'input')\n",
            "        Argument #2\n",
            "          DType: bool\n",
            "          Value: True\n",
            "        Argument #3\n",
            "          DType: NoneType\n",
            "          Value: None\n",
            "    Option #3\n",
            "      Callable with:\n",
            "        Argument #1\n",
            "          inputs: TensorSpec(shape=(None, 2), dtype=tf.float32, name=u'inputs')\n",
            "        Argument #2\n",
            "          DType: bool\n",
            "          Value: True\n",
            "        Argument #3\n",
            "          DType: NoneType\n",
            "          Value: None\n",
            "    Option #4\n",
            "      Callable with:\n",
            "        Argument #1\n",
            "          inputs: TensorSpec(shape=(None, 2), dtype=tf.float32, name=u'inputs')\n",
            "        Argument #2\n",
            "          DType: bool\n",
            "          Value: False\n",
            "        Argument #3\n",
            "          DType: NoneType\n",
            "          Value: None\n"
          ],
          "name": "stdout"
        }
      ]
    },
    {
      "cell_type": "markdown",
      "metadata": {
        "id": "wHfPboYfNpM3"
      },
      "source": [
        "2. Installing tensorflow serving\r\n",
        "Two methods for installing tensorflow serving: Using Docker images, or using apt.\r\n",
        "\r\n",
        "Docker image is the simplest way of installation and we recommend it.\r\n",
        "\r\n",
        "Docker is a container that provides independent environment for various programs.\r\n",
        "\r\n",
        "The companies that are using TensorFlow usually use Docker to install tensorflow serving by operation experts, so the algorithm engineers don't have to worry about the installation.\r\n",
        "\r\n",
        "The installation of Docker on different OS are shown below (in Chinese).\r\n",
        "\r\n",
        "Windows: https://www.runoob.com/docker/windows-docker-install.html\r\n",
        "\r\n",
        "MacOs: https://www.runoob.com/docker/macos-docker-install.html\r\n",
        "\r\n",
        "CentOS: https://www.runoob.com/docker/centos-docker-install.html\r\n",
        "\r\n",
        "After successful installation of Docker, run the following command to load the tensorflow/serving image.\r\n",
        "\r\n",
        "docker pull tensorflow/serving"
      ]
    },
    {
      "cell_type": "markdown",
      "metadata": {
        "id": "sSW1DJ0rNtkn"
      },
      "source": [
        "**3. Starting tensorflow serving Servic**e"
      ]
    },
    {
      "cell_type": "code",
      "metadata": {
        "colab": {
          "base_uri": "https://localhost:8080/"
        },
        "id": "TU7cY-GtNxov",
        "outputId": "4de7a838-03db-42fe-c799-a06684b49c9a"
      },
      "source": [
        "!docker run -t --rm -p 8501:8501 \\\r\n",
        "    -v \"../my_model/\" \\\r\n",
        "    -e MODEL_NAME=my_loaded_model \\\r\n",
        "    tensorflow/serving & >server.log 2>&1"
      ],
      "execution_count": 9,
      "outputs": [
        {
          "output_type": "stream",
          "text": [
            "/bin/bash: docker: command not found\n"
          ],
          "name": "stdout"
        }
      ]
    },
    {
      "cell_type": "markdown",
      "metadata": {
        "id": "chG9B-AyNzL4"
      },
      "source": [
        "**4. Sending request to the API service**\r\n",
        "\r\n",
        "The request could be sent through http function in any kind of the programming languages. We demonstrate request sending using the curl command in Linux and the requests library in Python."
      ]
    },
    {
      "cell_type": "code",
      "metadata": {
        "id": "9ZzQuQVmNz0h"
      },
      "source": [
        "!curl -d '{\"instances\": [1.0, 2.0, 5.0]}' \\\r\n",
        "    -X POST http://localhost:8501/v1/models/linear_model:predict"
      ],
      "execution_count": null,
      "outputs": []
    },
    {
      "cell_type": "code",
      "metadata": {
        "id": "pK-e2E-5N3yh"
      },
      "source": [
        "import json,requests\r\n",
        "\r\n",
        "data = json.dumps({\"signature_name\": \"serving_default\", \"instances\": [[1.0, 2.0], [5.0,7.0]]})\r\n",
        "headers = {\"content-type\": \"application/json\"}\r\n",
        "json_response = requests.post('http://localhost:8501/v1/models/linear_model:predict', \r\n",
        "        data=data, headers=headers)\r\n",
        "predictions = json.loads(json_response.text)[\"predictions\"]\r\n",
        "print(predictions)"
      ],
      "execution_count": null,
      "outputs": []
    }
  ]
}